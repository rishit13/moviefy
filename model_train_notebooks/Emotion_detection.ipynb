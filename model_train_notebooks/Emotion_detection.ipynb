{
  "nbformat": 4,
  "nbformat_minor": 0,
  "metadata": {
    "colab": {
      "name": "Emotion_detection.ipynb",
      "provenance": [],
      "collapsed_sections": []
    },
    "kernelspec": {
      "name": "python3",
      "display_name": "Python 3"
    }
  },
  "cells": [
    {
      "cell_type": "markdown",
      "metadata": {
        "id": "GE0fsVpTNm1c"
      },
      "source": [
        "## Emoviefy - A project on recommendation of movies based on expressions of a person"
      ]
    },
    {
      "cell_type": "markdown",
      "metadata": {
        "id": "ADPnc7kwN8K4"
      },
      "source": [
        "### Walk through of the project :\r\n",
        "1) Uploading and extracting movie images from a zip file </br>\r\n",
        "2) Extraction of features from using a pretrained model (VGG-16) </br>\r\n",
        "3) Building the top-layer model from prediction </br>\r\n",
        "4) Training the model"
      ]
    },
    {
      "cell_type": "markdown",
      "metadata": {
        "id": "0F1lRxVGOzzG"
      },
      "source": [
        "### Uploading and extracting movie images from a zip file\r\n",
        "<br>\r\n",
        "THe first step below is to import all the libraries that required for this project. This notebook contains just the training and prediction of images. TO see the development version of the code please refer to the description given in the repository. "
      ]
    },
    {
      "cell_type": "code",
      "metadata": {
        "id": "f_6LWsZO23l_"
      },
      "source": [
        "import pandas as pd \r\n",
        "import numpy as np\r\n",
        "import zipfile\r\n",
        "import tensorflow as tf \r\n",
        "from google.colab import files\r\n",
        "import zipfile\r\n",
        "import tensorflow as tf \r\n",
        "from tensorflow.keras.preprocessing.image import  ImageDataGenerator, load_img, img_to_array, array_to_img\r\n",
        "import matplotlib.pyplot as plt\r\n",
        "from matplotlib.image import imread\r\n",
        "import matplotlib.image as mpimg\r\n",
        "import seaborn as sns\r\n",
        "import os\r\n",
        "from tensorflow.keras.applications import vgg16\r\n",
        "from tensorflow.keras.layers import Dropout, Dense\r\n",
        "from tensorflow.keras.layers import BatchNormalization\r\n",
        "from tensorflow.keras.models import Sequential, load_model\r\n",
        "import numpy as np\r\n",
        "from sklearn.preprocessing import OneHotEncoder\r\n",
        "from google.colab import files\r\n",
        "from keras.preprocessing import image\r\n",
        "from keras.applications.imagenet_utils import decode_predictions\r\n",
        "import cv2"
      ],
      "execution_count": 7,
      "outputs": []
    },
    {
      "cell_type": "code",
      "metadata": {
        "id": "mV2jBTgo1vA8"
      },
      "source": [
        "from google.colab import files\r\n",
        "files.upload()"
      ],
      "execution_count": null,
      "outputs": []
    },
    {
      "cell_type": "markdown",
      "metadata": {
        "id": "RG5ALcFuQ-mo"
      },
      "source": [
        "In order to download a datset from kaggle we will be using the kaggle API. For which you will required to download a key from your account on kaggle. Make sure the key is in the root directory. It can be done as below"
      ]
    },
    {
      "cell_type": "code",
      "metadata": {
        "id": "pUMTXEVE2kIA"
      },
      "source": [
        "!mkdir ~/.kaggle\r\n",
        "!cp kaggle.json ~/.kaggle/\r\n",
        "!chmod 600 ~/.kaggle/kaggle.json"
      ],
      "execution_count": null,
      "outputs": []
    },
    {
      "cell_type": "code",
      "metadata": {
        "id": "Qd8jVr_P2szZ"
      },
      "source": [
        "!kaggle datasets download -d msambare/fer2013"
      ],
      "execution_count": null,
      "outputs": []
    },
    {
      "cell_type": "code",
      "metadata": {
        "id": "ZaF-D24s2vsr"
      },
      "source": [
        "local_zip  = '/content/fer2013.zip'"
      ],
      "execution_count": null,
      "outputs": []
    },
    {
      "cell_type": "code",
      "metadata": {
        "id": "4Lhowhpn2zsQ"
      },
      "source": [
        "def unzip(local_path):\r\n",
        "  zip_ref = zipfile.ZipFile(local_zip,'r')\r\n",
        "  zip_ref.extractall('/content')\r\n",
        "  zip_ref.close()\r\n"
      ],
      "execution_count": null,
      "outputs": []
    },
    {
      "cell_type": "code",
      "metadata": {
        "id": "6K7jVeLm3RQf"
      },
      "source": [
        "unzip(local_zip)"
      ],
      "execution_count": null,
      "outputs": []
    },
    {
      "cell_type": "markdown",
      "metadata": {
        "id": "HDPrQqunDWQ9"
      },
      "source": [
        "Data Formatting"
      ]
    },
    {
      "cell_type": "code",
      "metadata": {
        "id": "hxA4W9LxDU9O"
      },
      "source": [
        "local_path = \"/content/train/\""
      ],
      "execution_count": null,
      "outputs": []
    },
    {
      "cell_type": "code",
      "metadata": {
        "id": "mB7kxn-vDU2e"
      },
      "source": [
        "folders = os.listdir(local_path )"
      ],
      "execution_count": null,
      "outputs": []
    },
    {
      "cell_type": "code",
      "metadata": {
        "colab": {
          "base_uri": "https://localhost:8080/"
        },
        "id": "3ELGFntcGfuK",
        "outputId": "9b22e6a5-9c1c-473d-b572-914c970f2606"
      },
      "source": [
        "folders"
      ],
      "execution_count": null,
      "outputs": [
        {
          "output_type": "execute_result",
          "data": {
            "text/plain": [
              "['neutral', 'angry', 'happy', 'sad', 'surprise', 'fear', 'disgust']"
            ]
          },
          "metadata": {
            "tags": []
          },
          "execution_count": 7
        }
      ]
    },
    {
      "cell_type": "markdown",
      "metadata": {
        "id": "0VWxq4qMTN4R"
      },
      "source": [
        "This file is mainly used to get the filename and its label in a dataframe format. So that  they can be later utilized in a loop to perform different functions like one hot encoding the labels (for training) and for feature extraction from pretrained model."
      ]
    },
    {
      "cell_type": "code",
      "metadata": {
        "id": "WGFz95VRDUVR"
      },
      "source": [
        "def gendata(new_path,folders):\r\n",
        "  concatlist = []\r\n",
        "  filename = []\r\n",
        "  category = []\r\n",
        "  print(\"Folder ordering: \" , folders)\r\n",
        "  for index,names in enumerate(folders):\r\n",
        "      sub_dr = new_path + names+'/'\r\n",
        "      for files in os.listdir(new_path + names+'/'):\r\n",
        "        concatlist.append([sub_dr + files,str(index+1)])\r\n",
        "\r\n",
        "  for i in concatlist:\r\n",
        "    filename.append(i[0])\r\n",
        "    category.append(i[1])\r\n",
        "  df = pd.DataFrame({'filename': filename,\r\n",
        "                  'category': category})\r\n",
        "  sns.countplot(x='category',data=df).set_title(\"Data Distribution\")\r\n",
        "  return df"
      ],
      "execution_count": null,
      "outputs": []
    },
    {
      "cell_type": "markdown",
      "metadata": {
        "id": "civoeFNFTJ-w"
      },
      "source": [
        ""
      ]
    },
    {
      "cell_type": "code",
      "metadata": {
        "colab": {
          "base_uri": "https://localhost:8080/",
          "height": 329
        },
        "id": "DMx5hNkUKwUM",
        "outputId": "67fcb6d5-8a16-4af1-f800-4f81a479e74c"
      },
      "source": [
        "train_path = \"/content/train/\"\r\n",
        "test_path = '/content/test/'\r\n",
        "train_df = gendata(train_path,folders)\r\n",
        "test_df  = gendata(test_path,folders)"
      ],
      "execution_count": null,
      "outputs": [
        {
          "output_type": "stream",
          "text": [
            "Folder ordering:  ['neutral', 'angry', 'happy', 'sad', 'surprise', 'fear', 'disgust']\n",
            "Folder ordering:  ['neutral', 'angry', 'happy', 'sad', 'surprise', 'fear', 'disgust']\n"
          ],
          "name": "stdout"
        },
        {
          "output_type": "display_data",
          "data": {
            "image/png": "[encoded data removed]",
            "text/plain": [
              "<Figure size 432x288 with 1 Axes>"
            ]
          },
          "metadata": {
            "tags": [],
            "needs_background": "light"
          }
        }
      ]
    },
    {
      "cell_type": "code",
      "metadata": {
        "id": "DN1zRivL3lsz"
      },
      "source": [
        "def encode_label(data_df):\r\n",
        "  enc = OneHotEncoder(handle_unknown='ignore')\r\n",
        "  enc_df = pd.DataFrame(enc.fit_transform(data_df[['category']]).toarray())\r\n",
        "  data_df = data_df.join(enc_df)\r\n",
        "  return data_df"
      ],
      "execution_count": 2,
      "outputs": []
    },
    {
      "cell_type": "code",
      "metadata": {
        "id": "0Ero35qTnk42"
      },
      "source": [
        "train_df = encode_label(train_df)\r\n",
        "test_df = encode_label(test_df)"
      ],
      "execution_count": null,
      "outputs": []
    },
    {
      "cell_type": "markdown",
      "metadata": {
        "id": "aR5jwRj1XYsa"
      },
      "source": [
        "The below cell imports the vgg architecture cutting of the top layer. We have considered an input shape of 128 x 128 as that was the best image size that suited for achieving better results. "
      ]
    },
    {
      "cell_type": "code",
      "metadata": {
        "id": "rtguTm835FAJ"
      },
      "source": [
        "vgg = vgg16.VGG16(weights='imagenet',\r\n",
        "                  include_top=False,\r\n",
        "                  input_shape=(128,128,3))\r\n",
        "\r\n",
        "for layer in vgg.layers:\r\n",
        "    layer.trainable = False"
      ],
      "execution_count": null,
      "outputs": []
    },
    {
      "cell_type": "code",
      "metadata": {
        "id": "HDvMTbfS52Ue"
      },
      "source": [
        "vgg.summary()"
      ],
      "execution_count": null,
      "outputs": []
    },
    {
      "cell_type": "code",
      "metadata": {
        "id": "a_3kTX_zamnc"
      },
      "source": [
        "feature_list = []\r\n",
        "feature_list_test = [] \r\n",
        "\r\n",
        "def extract_features(data_df):\r\n",
        "    count = 0\r\n",
        "    datalist = []\r\n",
        "    for path in data_df['filename'].to_numpy():\r\n",
        "        x = load_img(path,target_size=(128,128))\r\n",
        "        img_array = img_to_array(x)\r\n",
        "        img_array = img_array/255.0\r\n",
        "        img_array = np.expand_dims(img_array, axis=0)\r\n",
        "        features = vgg.predict(img_array)\r\n",
        "        count+=1\r\n",
        "        print(count/len(data_df)*100)\r\n",
        "        data_list.append(features)\r\n",
        "    return data_list"
      ],
      "execution_count": 6,
      "outputs": []
    },
    {
      "cell_type": "code",
      "metadata": {
        "id": "Rq7ZiZE_NF8t"
      },
      "source": [
        "feature_list =  extract_features(train_df)\r\n",
        "feature_list_test = extract_features(test_df)"
      ],
      "execution_count": null,
      "outputs": []
    },
    {
      "cell_type": "markdown",
      "metadata": {
        "id": "-R0Ux5IWcASu"
      },
      "source": [
        "Reshaping the features in a flattened format to be passed into the dense neural netowork for prediction. I suggest extracting the features in batches and saving them in your localdrive. Rather than doing it all at once. "
      ]
    },
    {
      "cell_type": "code",
      "metadata": {
        "id": "D2FBXFHCQmlN"
      },
      "source": [
        "feat_lst = np.reshape(feature_list,(-1,4*4*512))\r\n",
        "feat_lst_test = np.reshape(feature_list_test,(-1,4*4*512))"
      ],
      "execution_count": null,
      "outputs": []
    },
    {
      "cell_type": "code",
      "metadata": {
        "id": "BOkRESoLuzr7"
      },
      "source": [
        "from tensorflow.keras.regularizers import l2\r\n",
        "input_shape = 4*4*512\r\n",
        "def model(input_shape):\r\n",
        "    model = tf.keras.models.Sequential([ tf.keras.layers.Dense(1024, activation = 'relu',input_shape = (input_shape,)),\r\n",
        "                                        tf.keras.layers.BatchNormalization(),\r\n",
        "                                        tf.keras.layers.Dropout(0.2),\r\n",
        "                                        tf.keras.layers.Dense(512, activation = 'relu', kernel_regularizer= l2(0.01)),\r\n",
        "                                        tf.keras.layers.Dense(256, activation = 'relu', kernel_regularizer= l2(0.01)),\r\n",
        "                                        tf.keras.layers.BatchNormalization(),\r\n",
        "                                        tf.keras.layers.Dropout(0.2),\r\n",
        "                                        tf.keras.layers.Dense(len(os.listdir(train_path)), activation= 'softmax') \r\n",
        "    ])\r\n",
        "    return model"
      ],
      "execution_count": null,
      "outputs": []
    },
    {
      "cell_type": "markdown",
      "metadata": {
        "id": "GNbxJLAzfmJQ"
      },
      "source": [
        "Previously the output paramaeter and encoding were done b thr image data generator but in this case there  since input is passed and features alone we have to code out the y values for calculation of the loss."
      ]
    },
    {
      "cell_type": "code",
      "metadata": {
        "id": "WedWaIIo7h9b"
      },
      "source": [
        "y = train_df.iloc[:,2:].to_numpy() "
      ],
      "execution_count": null,
      "outputs": []
    },
    {
      "cell_type": "code",
      "metadata": {
        "id": "YdtC4svi7qs_"
      },
      "source": [
        "y_vval = test_df.iloc[:,2:].to_numpy()"
      ],
      "execution_count": null,
      "outputs": []
    },
    {
      "cell_type": "code",
      "metadata": {
        "colab": {
          "base_uri": "https://localhost:8080/"
        },
        "id": "fp-clLE1y3zy",
        "outputId": "c1ff5466-2874-492d-a99a-93fd1a8474fc"
      },
      "source": [
        "from tensorflow.keras.optimizers import Adam\r\n",
        "model = model(input_shape)\r\n",
        "model.summary()\r\n",
        "model.compile(loss = 'categorical_crossentropy', optimizer = 'adam', metrics = [\"acc\"])"
      ],
      "execution_count": null,
      "outputs": [
        {
          "output_type": "stream",
          "text": [
            "Model: \"sequential_1\"\n",
            "_________________________________________________________________\n",
            "Layer (type)                 Output Shape              Param #   \n",
            "=================================================================\n",
            "dense_3 (Dense)              (None, 1024)              8389632   \n",
            "_________________________________________________________________\n",
            "batch_normalization_2 (Batch (None, 1024)              4096      \n",
            "_________________________________________________________________\n",
            "dropout_2 (Dropout)          (None, 1024)              0         \n",
            "_________________________________________________________________\n",
            "dense_4 (Dense)              (None, 512)               524800    \n",
            "_________________________________________________________________\n",
            "dense_5 (Dense)              (None, 256)               131328    \n",
            "_________________________________________________________________\n",
            "batch_normalization_3 (Batch (None, 256)               1024      \n",
            "_________________________________________________________________\n",
            "dropout_3 (Dropout)          (None, 256)               0         \n",
            "_________________________________________________________________\n",
            "dense_6 (Dense)              (None, 7)                 1799      \n",
            "=================================================================\n",
            "Total params: 9,052,679\n",
            "Trainable params: 9,050,119\n",
            "Non-trainable params: 2,560\n",
            "_________________________________________________________________\n"
          ],
          "name": "stdout"
        }
      ]
    },
    {
      "cell_type": "code",
      "metadata": {
        "id": "OSREnsDLzp9C"
      },
      "source": [
        "class myCallback(tf.keras.callbacks.Callback):\r\n",
        "  def on_epoch_end(self, epoch, logs={}):\r\n",
        "    if(logs.get('acc')>0.80):\r\n",
        "      print(\"\\nReached 80% accuracy so cancelling training!\")\r\n",
        "      self.model.stop_training = True"
      ],
      "execution_count": null,
      "outputs": []
    },
    {
      "cell_type": "code",
      "metadata": {
        "id": "QqvZy_L92VMj"
      },
      "source": [
        "mycallback = myCallback()\r\n",
        "callbacks = [mycallback]"
      ],
      "execution_count": null,
      "outputs": []
    },
    {
      "cell_type": "code",
      "metadata": {
        "id": "eoxZl9uj2ZPm"
      },
      "source": [
        "steps_per_epoch = len(feat_lst)/64\r\n",
        "validation_steps = len(feat_lst_test)/64\r\n",
        "num_epochs = 90\r\n",
        "\r\n",
        "history = model.fit(feat_lst,y,\r\n",
        "                    epochs=num_epochs,\r\n",
        "                    batch_size = 64,\r\n",
        "                    verbose=1,\r\n",
        "                    steps_per_epoch=steps_per_epoch,\r\n",
        "                    validation_data = ( feat_lst_test,y_vval),\r\n",
        "                    validation_steps=validation_steps,\r\n",
        "                    callbacks = callbacks)"
      ],
      "execution_count": null,
      "outputs": []
    },
    {
      "cell_type": "code",
      "metadata": {
        "id": "gZOfot9P2s6I"
      },
      "source": [
        "model.save(\"vgg_updated_1_tensor.h5\")\r\n",
        "model.save_weights(\"vgg_weights_updated_2_tensor.h5\")"
      ],
      "execution_count": null,
      "outputs": []
    },
    {
      "cell_type": "markdown",
      "metadata": {
        "id": "uCPPaRS_g6n1"
      },
      "source": [
        "In order for us to see the predictions of saw some images from the web we can used the following code,  that allows us to upload an image and then give us the predictions."
      ]
    },
    {
      "cell_type": "code",
      "metadata": {
        "id": "0t8YXF5avu_Y"
      },
      "source": [
        "uploaded = files.upload()\r\n",
        "#imgl = []\r\n",
        "for fn in uploaded.keys():\r\n",
        " \r\n",
        "  # predicting images\r\n",
        "  path = '/content/' + fn\r\n",
        "  img = image.load_img(path, target_size=(128,128))\r\n",
        "  read_img = img_to_array(img)\r\n",
        "  gray = cv2.cvtColor(np.float32(img), cv2.COLOR_BGR2GRAY)\r\n",
        "  cv2.imwrite(path, gray)\r\n",
        "  read_img = cv2.imread(path)\r\n",
        "  read_img = np.expand_dims(read_img, axis=0) \r\n",
        "  read_img = read_img/255.0\r\n",
        "  vgg_pred = vgg.predict(read_img)\r\n",
        "  vgg_pred = vgg_pred.reshape(1, vgg_pred.shape[1]*vgg_pred.shape[2]*vgg_pred.shape[3])\r\n",
        "  y = model.predict(vgg_pred)\r\n",
        "  y_pred = np.argmax(y, axis=1)\r\n",
        "  print(y_pred)"
      ],
      "execution_count": null,
      "outputs": []
    },
    {
      "cell_type": "code",
      "metadata": {
        "id": "q9QWV6n1Ock-"
      },
      "source": [
        ""
      ],
      "execution_count": null,
      "outputs": []
    }
  ]
}